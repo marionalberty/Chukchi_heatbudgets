{
 "cells": [
  {
   "cell_type": "markdown",
   "id": "artistic-worthy",
   "metadata": {},
   "source": [
    "# ITP "
   ]
  },
  {
   "cell_type": "code",
   "execution_count": null,
   "id": "dense-prefix",
   "metadata": {},
   "outputs": [],
   "source": []
  },
  {
   "cell_type": "code",
   "execution_count": null,
   "id": "velvet-involvement",
   "metadata": {},
   "outputs": [],
   "source": [
    "itp_dir = '/archive/Marion.Alberty/Chukchi_heatbudgets/obs/ITP'"
   ]
  }
 ],
 "metadata": {
  "kernelspec": {
   "display_name": "PhysOcean",
   "language": "python",
   "name": "phys_ocean"
  },
  "language_info": {
   "codemirror_mode": {
    "name": "ipython",
    "version": 3
   },
   "file_extension": ".py",
   "mimetype": "text/x-python",
   "name": "python",
   "nbconvert_exporter": "python",
   "pygments_lexer": "ipython3",
   "version": "3.8.6"
  }
 },
 "nbformat": 4,
 "nbformat_minor": 5
}
