{
 "cells": [
  {
   "cell_type": "markdown",
   "id": "7ca450ad-9dcb-4cb7-89f2-177dd0c641c0",
   "metadata": {},
   "source": [
    "# Determine perturbation scales\n",
    "Plot the ERA5 linear regression of the meridional winds and the perturbation wind function to compare the spatial scales of each."
   ]
  },
  {
   "cell_type": "code",
   "execution_count": 1,
   "id": "5b73df02-f1b0-44a3-a3a4-4449bbc685ee",
   "metadata": {},
   "outputs": [],
   "source": [
    "%matplotlib inline\n",
    "import warnings\n",
    "warnings.filterwarnings('ignore')"
   ]
  },
  {
   "cell_type": "code",
   "execution_count": 2,
   "id": "cfbb4ee5-6750-4045-a39a-e379f82f8335",
   "metadata": {},
   "outputs": [],
   "source": [
    "from glob import glob\n",
    "import xarray as xr\n",
    "import matplotlib.pyplot as plt\n",
    "plt.rcParams.update({'font.size': 16})\n",
    "import cartopy.crs as ccrs\n",
    "import cartopy.feature as cfeature\n",
    "import cmocean\n",
    "import numpy as np"
   ]
  },
  {
   "cell_type": "markdown",
   "id": "4e9aeeed-ee18-4d46-ae47-9d78e1661603",
   "metadata": {},
   "source": [
    "## Calulate linear regressions on monthly anomalies\n",
    "Following the method for calculating standard error as is given on pages 250-254 of Thomson and Emery"
   ]
  },
  {
   "cell_type": "code",
   "execution_count": 3,
   "id": "c7c2a5f5-94f5-4202-a838-9412f81b758a",
   "metadata": {},
   "outputs": [],
   "source": [
    "v10_dir = '/work/Marion.Alberty/data/ERA5_pp/v_10m/'\n",
    "flist_v10 = glob(f'{v10_dir}ERA5_monthly_v_10m_*.nc')"
   ]
  },
  {
   "cell_type": "code",
   "execution_count": 4,
   "id": "e0cbde89-b336-4b42-864d-c50f2fc72167",
   "metadata": {},
   "outputs": [],
   "source": [
    "def fix_latlon(ds):\n",
    "    # Rename to lat, lon\n",
    "    ds = ds.rename({'longitude':'lon','latitude':'lat'})\n",
    "    # reindex for increasing lat\n",
    "    ds = ds.reindex(lat=list(reversed(ds.lat)))\n",
    "    return ds"
   ]
  },
  {
   "cell_type": "code",
   "execution_count": 5,
   "id": "ad1f6530-62f7-4787-88e7-21b28657e684",
   "metadata": {
    "tags": []
   },
   "outputs": [],
   "source": [
    "## Read in observational data\n",
    "DS_v10 = fix_latlon(xr.open_mfdataset(flist_v10,engine='netcdf4'))"
   ]
  },
  {
   "cell_type": "code",
   "execution_count": 6,
   "id": "ae96859d-19ac-4971-ab7d-1840d86d88a6",
   "metadata": {},
   "outputs": [],
   "source": [
    "# Set lat,lon for analysis\n",
    "lats = np.array([50, 80])\n",
    "lons = np.array([160, 230])"
   ]
  },
  {
   "cell_type": "code",
   "execution_count": 7,
   "id": "6de48266-0e42-495d-b3a1-44fb688ec4db",
   "metadata": {},
   "outputs": [],
   "source": [
    "# extract regions for analysis\n",
    "v10 = DS_v10.sel(lon=slice(lons[0],lons[1]),lat=slice(lats[0],lats[1]))"
   ]
  },
  {
   "cell_type": "code",
   "execution_count": 8,
   "id": "265a6a90-cda8-45aa-8176-e70e3dba9484",
   "metadata": {},
   "outputs": [],
   "source": [
    "def linReg_Mclim(ds):\n",
    "    def mk_lr(ds,mon):\n",
    "        # get linear regression coefficients for Jan and initialize dataset\n",
    "        lr = ds.isel(time=ds.groupby('time.month').groups[mon]).polyfit(\n",
    "            'time',1,full=True).assign_coords(month=mon).expand_dims('month')\n",
    "        # rename coefficients\n",
    "        lr = lr.rename({[s for s in list(lr.keys()) if \"coefficients\" in s][0]:'b0_b1'})\n",
    "        # rename sum of squared errors\n",
    "        lr = lr.rename({[s for s in list(lr.keys()) if \"residuals\" in s][0]:'SSE'})\n",
    "        # add sample size\n",
    "        lr['N'] = (('month'),[len(ds.isel(time=ds.groupby('time.month').groups[mon]).time)])\n",
    "        # calculate the standard error of the estimate\n",
    "        lr['s_err'] = (lr['SSE']/(lr['N']-2))**(1/2)\n",
    "        # calc spread in time\n",
    "        dt = (ds.isel(time=ds.groupby('time.month').groups[mon]).time - \n",
    "              ds.isel(time=ds.groupby('time.month').groups[mon]).time.mean()).astype(float).values\n",
    "        # calculate the standard error of the slope (dea)\n",
    "        lr['s_b1'] = lr['s_err']/((dt**2).sum()**(1/2))\n",
    "        # calc mask for statistical significance\n",
    "        lr['b1_mask'] = (abs(lr['b0_b1'].sel(degree=1)) < (2*lr['s_b1'])).astype(int)\n",
    "        return lr\n",
    "    # get linear regression coefficients for Jan and initialize dataset\n",
    "    LR = mk_lr(ds,1)\n",
    "    for i in range(2,13):\n",
    "        # calc lin regress for next month\n",
    "        _LR = mk_lr(ds,i)\n",
    "        # concat with previous months\n",
    "        LR = xr.concat([LR, _LR],\"month\")\n",
    "    return LR"
   ]
  },
  {
   "cell_type": "code",
   "execution_count": null,
   "id": "a5227ad7-3ddf-4492-8742-f02f594572bf",
   "metadata": {},
   "outputs": [],
   "source": [
    "# winds\n",
    "LRm_v10 = linReg_Mclim(v10).load()"
   ]
  },
  {
   "cell_type": "markdown",
   "id": "8769a357-96a1-4fa7-bc0c-34d41a53452b",
   "metadata": {
    "tags": []
   },
   "source": [
    "## Calculate the perturbation\n",
    "\n",
    "$$v^\\prime(x,y,t) = v_0 e^{-(\\frac{x}{L_x})^2 -(\\frac{y}{L_y})^2} v^\\prime(t) $$"
   ]
  },
  {
   "cell_type": "code",
   "execution_count": null,
   "id": "8612984a-80c1-4d22-ac5e-949faed89b30",
   "metadata": {},
   "outputs": [],
   "source": [
    "path_in = '/archive/gold/datasets/reanalysis/JRA55-do/v1.4.0/padded/'\n",
    "flist = glob(f'{path_in}vas_*.nc')\n",
    "# Open one file to get lat, lon coordinates\n",
    "DS = xr.open_mfdataset(flist[6])"
   ]
  },
  {
   "cell_type": "code",
   "execution_count": null,
   "id": "b114da1e-f075-4c14-a533-7f21d3dce0d9",
   "metadata": {},
   "outputs": [],
   "source": [
    "# location of perturbation center\n",
    "lat_p = 68\n",
    "lon_p = 193\n",
    "Lx = 300 # [km]\n",
    "Ly = 500 # [km]\n",
    "v_0 = 2.5 # [m/s]"
   ]
  },
  {
   "cell_type": "code",
   "execution_count": null,
   "id": "c9d1b810-87c2-4a13-8e52-c52d71cf52df",
   "metadata": {},
   "outputs": [],
   "source": [
    "# Caclulate the degrees difference from the perturbation\n",
    "delta_lon = DS['lon'] - lon_p\n",
    "delta_lat = DS['lat'] - lat_p"
   ]
  },
  {
   "cell_type": "code",
   "execution_count": null,
   "id": "14b8e828-31bc-4940-b0e1-a0a226522630",
   "metadata": {},
   "outputs": [],
   "source": [
    "# Calculate the distance in km for each grid point from the perturbation\n",
    "Re = 6.378e3 # radius of earth [km]\n",
    "y = (Re * (np.pi * delta_lat / 180)).expand_dims(dim={'lon':DS.lon})\n",
    "x = Re * (np.pi * delta_lon / 180) * np.cos(np.pi * DS.lat / 180)"
   ]
  },
  {
   "cell_type": "code",
   "execution_count": null,
   "id": "2657b090-5990-44c4-929e-ffe5dafc6f1a",
   "metadata": {},
   "outputs": [],
   "source": [
    "# Calculate the perturbation as a function of space\n",
    "v_prime0 = v_0 * np.exp(-(x/Lx)**2 -(y/Ly)**2)"
   ]
  },
  {
   "cell_type": "markdown",
   "id": "f8a2d9e7-2c63-4a2e-9f3b-c2acd0fc131d",
   "metadata": {},
   "source": [
    "## Plot maps"
   ]
  },
  {
   "cell_type": "code",
   "execution_count": null,
   "id": "f4bbefa6-0e21-45b6-95c0-06e57c4a28cc",
   "metadata": {},
   "outputs": [],
   "source": [
    "# Create a figure and axes using matplotlib\n",
    "fig,ax = plt.subplots(figsize=(13,7),nrows=1,ncols=2,\n",
    "                      subplot_kw={'projection':ccrs.LambertConformal(central_longitude=-170)})\n",
    "# Specify data projection\n",
    "crs = ccrs.PlateCarree()\n",
    "\n",
    "# Linear regression map\n",
    "# convert units of the trend from ns to years\n",
    "t_con = 1e9 * 86400 * 365.25\n",
    "dy = v10.time.size/12\n",
    "# Pull variables for plotting\n",
    "x0 = LRm_v10['lon']\n",
    "y0 = LRm_v10['lat']\n",
    "z0 = dy * t_con * LRm_v10['b0_b1'].sel(degree=1).sel(month=10)\n",
    "mask0 = LRm_v10['b1_mask'].sel(month=10)\n",
    "\n",
    "# plot trend\n",
    "im0 = ax[0].pcolormesh(x0,y0,z0,transform=crs,cmap='cmo.balance',\n",
    "                      vmin=-v_0,vmax=v_0,rasterized=True)\n",
    "# add mask from lin reg\n",
    "n_levels = 1\n",
    "ax[0].contourf(x0,y0,mask0,n_levels,colors='none',hatches=['..',None],\n",
    "               transform=crs)\n",
    "\n",
    "# Zoom in around the Bering Strait\n",
    "ax[0].set_extent([175, 210, 55, 75], crs=crs)\n",
    "\n",
    "# Add a land mask to your plot, as well as grid lines and coastlines\n",
    "ax[0].add_feature(cfeature.LAND,zorder=9,facecolor='darkgray')\n",
    "gl = ax[0].gridlines(draw_labels=True,dms=True,x_inline=False,y_inline=False,\n",
    "                     crs=crs,xlocs=[180,-170,-160,-150])\n",
    "gl.xlabels_top = False\n",
    "gl.ylabels_right = False\n",
    "ax[0].coastlines()\n",
    "ax[0].set_title('Oct $\\Delta v_{10}$ from ERA5 linear trends for 1979-2021')\n",
    "\n",
    "# colorbar\n",
    "cbar0 = plt.colorbar(im0,ax=ax[0],fraction=0.03,pad=0.05,extend='both')\n",
    "cbar0.set_label('[m/s]',fontsize=12)\n",
    "\n",
    "# Perturbation map\n",
    "# Pull variables for plotting\n",
    "x1 = v_prime0['lon']\n",
    "y1 = v_prime0['lat']\n",
    "z1 = v_prime0.transpose()\n",
    "\n",
    "# plot perturbation\n",
    "im1 = ax[1].pcolormesh(x1,y1,z1,transform=crs,cmap='cmo.balance',\n",
    "                      vmin=-v_0,vmax=v_0,rasterized=True)\n",
    "# add mask from lin reg\n",
    "n_levels = 1\n",
    "ax[1].contourf(x0,y0,mask0,n_levels,colors='none',hatches=['..',None],\n",
    "               transform=crs)\n",
    "\n",
    "# Zoom in around the Bering Strait\n",
    "ax[1].set_extent([175, 210, 55, 75], crs=crs)\n",
    "\n",
    "# Add a land mask to your plot, as well as grid lines and coastlines\n",
    "ax[1].add_feature(cfeature.LAND,zorder=9,facecolor='darkgray')\n",
    "gl = ax[1].gridlines(draw_labels=True,dms=True,x_inline=False,y_inline=False,\n",
    "                     crs=crs,xlocs=[180,-170,-160,-150])\n",
    "gl.xlabels_top = False\n",
    "gl.ylabels_right = False\n",
    "gl.ylabels_left = False\n",
    "ax[1].coastlines()\n",
    "ax[1].set_title('Experimental perturbation')\n",
    "\n",
    "# colorbar\n",
    "cbar1 = plt.colorbar(im1,ax=ax[1],fraction=0.03,pad=0.05,extend='both')\n",
    "cbar1.set_label('[m/s]',fontsize=12)\n",
    "\n",
    "fig.text(0.05,0.8,'a)',fontsize=20)\n",
    "fig.text(0.52,0.8,'b)',fontsize=20)\n",
    "\n",
    "plt.show()\n",
    "# save fig\n",
    "fig.savefig('../figures/PerturbationExperiments/OctDeltaV10fromERA5linearTrend_BWP.pdf')"
   ]
  }
 ],
 "metadata": {
  "kernelspec": {
   "display_name": "PhysOcean",
   "language": "python",
   "name": "phys_ocean"
  },
  "language_info": {
   "codemirror_mode": {
    "name": "ipython",
    "version": 3
   },
   "file_extension": ".py",
   "mimetype": "text/x-python",
   "name": "python",
   "nbconvert_exporter": "python",
   "pygments_lexer": "ipython3",
   "version": "3.8.6"
  }
 },
 "nbformat": 4,
 "nbformat_minor": 5
}
