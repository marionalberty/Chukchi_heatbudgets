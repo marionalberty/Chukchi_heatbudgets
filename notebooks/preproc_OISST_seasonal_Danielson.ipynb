{
 "cells": [
  {
   "cell_type": "markdown",
   "id": "ranking-table",
   "metadata": {},
   "source": [
    "## Preprocess OISST data into seasonal means using the seasons defined in Danielson et al. 2020\n",
    "Build monthly means for each year of available OISST data."
   ]
  },
  {
   "cell_type": "code",
   "execution_count": 1,
   "id": "lesser-installation",
   "metadata": {},
   "outputs": [],
   "source": [
    "import warnings\n",
    "warnings.filterwarnings('ignore')\n",
    "from glob import glob"
   ]
  },
  {
   "cell_type": "markdown",
   "id": "alleged-adult",
   "metadata": {},
   "source": [
    "## Set in paths"
   ]
  },
  {
   "cell_type": "code",
   "execution_count": 2,
   "id": "awful-apartment",
   "metadata": {},
   "outputs": [],
   "source": [
    "# NCEI_OISST base\n",
    "base = '/uda/NCEI_OISST/AVHRR-only/v2.1/'\n",
    "# year directories\n",
    "dir_yrs = glob(f'{base}*/')"
   ]
  },
  {
   "cell_type": "code",
   "execution_count": null,
   "id": "advanced-coordination",
   "metadata": {},
   "outputs": [],
   "source": [
    "DS_sst.groupby(DS_sst.time.dt.month.isin((10,11,12))).mean().sel(month=True)"
   ]
  },
  {
   "cell_type": "markdown",
   "id": "cross-glass",
   "metadata": {},
   "source": [
    "## Preprocess algorithm"
   ]
  },
  {
   "cell_type": "code",
   "execution_count": 3,
   "id": "right-ceiling",
   "metadata": {},
   "outputs": [],
   "source": [
    "def preproc_OISST_to_monthly(in_dir):\n",
    "    # import pkgs\n",
    "    import xarray as xr\n",
    "    from dask.diagnostics import ProgressBar\n",
    "    import numpy as np\n",
    "    \n",
    "    # monthly means out\n",
    "    out_dir = '/work/Marion.Alberty/data/OISST_pp/'\n",
    "    \n",
    "    # Time average and write data for each year\n",
    "    for i in np.arange(len(in_dir)):\n",
    "        with ProgressBar():\n",
    "            # Get year string\n",
    "            year = in_dir[i][-5:-1]\n",
    "            \n",
    "            # Get paths for year directory\n",
    "            flist = glob(f'{in_dir[i]}*.nc')\n",
    "            \n",
    "            # Read in the year of data\n",
    "            ds = xr.open_mfdataset(flist,use_cftime=True,engine='netcdf4'\n",
    "                                  ).squeeze().chunk({'time':25})['sst']\n",
    "            \n",
    "            # Make time coord\n",
    "            time = ds.time.groupby('time.month').mean().values\n",
    "            \n",
    "            # Extract one year and get monthly average\n",
    "            tmp = ds.groupby('time.month').mean().chunk(\n",
    "                {'lat':721,'lon':1440,'month':12}).assign_coords(\n",
    "                {\"time\": (\"month\", time)}).swap_dims({'month': 'time'})\n",
    "            \n",
    "            # Output to netcdf\n",
    "            tmp.to_netcdf(out_dir + 'NCEI_OISST_monthly_SST_' + year + '.nc')"
   ]
  },
  {
   "cell_type": "markdown",
   "id": "infectious-bhutan",
   "metadata": {},
   "source": [
    "## Set up DASK cluster\n",
    "In dask labextension, create a +NEW cluster. Click the < > widget, scale it to 16 workers and let's go!"
   ]
  },
  {
   "cell_type": "markdown",
   "id": "loving-fairy",
   "metadata": {},
   "source": [
    "## Process and write variables"
   ]
  },
  {
   "cell_type": "code",
   "execution_count": 4,
   "id": "former-thursday",
   "metadata": {},
   "outputs": [
    {
     "name": "stdout",
     "output_type": "stream",
     "text": [
      "[########################################] | 100% Completed |  5.5s\n",
      "[########################################] | 100% Completed | 21.2s\n",
      "[########################################] | 100% Completed | 17.9s\n",
      "[########################################] | 100% Completed | 16.7s\n",
      "[########################################] | 100% Completed | 17.1s\n",
      "[########################################] | 100% Completed | 17.1s\n",
      "[########################################] | 100% Completed | 20.1s\n",
      "[########################################] | 100% Completed | 20.3s\n",
      "[########################################] | 100% Completed | 21.6s\n",
      "[########################################] | 100% Completed | 19.2s\n",
      "[########################################] | 100% Completed | 20.5s\n",
      "[########################################] | 100% Completed | 26.5s\n",
      "[########################################] | 100% Completed | 22.7s\n",
      "[########################################] | 100% Completed | 21.5s\n",
      "[########################################] | 100% Completed | 18.3s\n",
      "[########################################] | 100% Completed | 19.3s\n",
      "[########################################] | 100% Completed | 17.3s\n",
      "[########################################] | 100% Completed | 20.8s\n",
      "[########################################] | 100% Completed | 19.9s\n",
      "[########################################] | 100% Completed | 20.5s\n",
      "[########################################] | 100% Completed | 20.7s\n",
      "[########################################] | 100% Completed | 24.0s\n",
      "[########################################] | 100% Completed | 21.3s\n",
      "[########################################] | 100% Completed | 22.9s\n",
      "[########################################] | 100% Completed | 21.8s\n",
      "[########################################] | 100% Completed | 24.6s\n",
      "[########################################] | 100% Completed | 17.8s\n",
      "[########################################] | 100% Completed | 19.9s\n",
      "[########################################] | 100% Completed | 17.2s\n",
      "[########################################] | 100% Completed | 18.4s\n",
      "[########################################] | 100% Completed | 15.0s\n",
      "[########################################] | 100% Completed | 17.5s\n",
      "[########################################] | 100% Completed | 17.2s\n",
      "[########################################] | 100% Completed | 14.5s\n",
      "[########################################] | 100% Completed | 14.3s\n",
      "[########################################] | 100% Completed | 13.2s\n",
      "[########################################] | 100% Completed | 14.0s\n",
      "[########################################] | 100% Completed | 15.1s\n",
      "[########################################] | 100% Completed | 14.0s\n",
      "[########################################] | 100% Completed | 18.7s\n",
      "[########################################] | 100% Completed | 17.4s\n"
     ]
    }
   ],
   "source": [
    "preproc_OISST_to_monthly(dir_yrs)"
   ]
  }
 ],
 "metadata": {
  "kernelspec": {
   "display_name": "PhysOcean",
   "language": "python",
   "name": "phys_ocean"
  },
  "language_info": {
   "codemirror_mode": {
    "name": "ipython",
    "version": 3
   },
   "file_extension": ".py",
   "mimetype": "text/x-python",
   "name": "python",
   "nbconvert_exporter": "python",
   "pygments_lexer": "ipython3",
   "version": "3.8.6"
  }
 },
 "nbformat": 4,
 "nbformat_minor": 5
}
