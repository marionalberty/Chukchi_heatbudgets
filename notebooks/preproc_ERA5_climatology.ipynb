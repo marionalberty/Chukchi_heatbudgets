{
 "cells": [
  {
   "cell_type": "markdown",
   "id": "textile-sellers",
   "metadata": {},
   "source": [
    "# Preprocess ERA 5 data seasonal climatology\n",
    "Creates seasonal climatology for ERA 5 data from the preproccessed monthly average files"
   ]
  },
  {
   "cell_type": "code",
   "execution_count": null,
   "id": "modern-snapshot",
   "metadata": {},
   "outputs": [],
   "source": [
    "import warnings\n",
    "warnings.filterwarnings('ignore')"
   ]
  },
  {
   "cell_type": "markdown",
   "id": "adaptive-judges",
   "metadata": {},
   "source": [
    "## Set in paths"
   ]
  },
  {
   "cell_type": "code",
   "execution_count": 2,
   "id": "bronze-anatomy",
   "metadata": {},
   "outputs": [],
   "source": [
    "# data in, preprocessed monthly means\n",
    "base = '/work/Marion.Alberty/data/ERA5_pp/'\n",
    "# u-winds\n",
    "u10_dir = base + 'u_10m/'\n",
    "# v-winds\n",
    "v10_dir = base + 'v_10m/'\n",
    "# sea level pressure\n",
    "slp_dir = base + 'P_mean_sea_level/'"
   ]
  },
  {
   "cell_type": "markdown",
   "id": "modified-invalid",
   "metadata": {},
   "source": [
    "## Set year range for climatologies"
   ]
  },
  {
   "cell_type": "code",
   "execution_count": 3,
   "id": "confirmed-centre",
   "metadata": {},
   "outputs": [],
   "source": [
    "ystart = '1979'\n",
    "yend = '2014'"
   ]
  },
  {
   "cell_type": "markdown",
   "id": "employed-message",
   "metadata": {},
   "source": [
    "## Climatology algorithm"
   ]
  },
  {
   "cell_type": "code",
   "execution_count": 4,
   "id": "ordered-bunch",
   "metadata": {},
   "outputs": [],
   "source": [
    "def preproc_ERA5_climatology(in_dir,i_year,n_year):\n",
    "    # import pkgs\n",
    "    from glob import glob\n",
    "    import xarray as xr\n",
    "    from dask.diagnostics import ProgressBar\n",
    "    import numpy as np\n",
    "    \n",
    "    # Parse in_dir to get varaible\n",
    "    var_dir = in_dir.split('/')[-2]\n",
    "    \n",
    "    # climatologies out\n",
    "    out_dir = '/work/Marion.Alberty/data/ERA5_pp/'\n",
    "    \n",
    "    # Get list of ERA5 files\n",
    "    flist = glob(f'{in_dir}*.nc')\n",
    "    \n",
    "    # Read in data and calculate the monthly averages\n",
    "    ds = xr.open_mfdataset(flist,use_cftime=True,engine='netcdf4'\n",
    "                          ).chunk({'time':24}\n",
    "                                 ).sel(time=slice(i_year,n_year)\n",
    "                                      ).groupby('time.month').mean().chunk({'month':12})\n",
    "    \n",
    "    # Add attributes\n",
    "    _ = ds.attrs['description'] = \"ERA5 seasonal climatology\"\n",
    "    _ = ds.attrs['climatology_period'] = i_year + \" to \" + n_year\n",
    "    \n",
    "    # Write climatology to netcdf\n",
    "    with ProgressBar():\n",
    "        ds.to_netcdf(out_dir + 'ERA5_climatology_' + var_dir + '_' + i_year + '_' + n_year + '.nc')"
   ]
  },
  {
   "cell_type": "markdown",
   "id": "configured-communication",
   "metadata": {},
   "source": [
    "## Set up DASK cluster\n",
    "In dask labextension, create a +NEW cluster. Click the < > widget, scale it to 16 workers and let's go!"
   ]
  },
  {
   "cell_type": "markdown",
   "id": "phantom-start",
   "metadata": {},
   "source": [
    "## Process and write variables"
   ]
  },
  {
   "cell_type": "code",
   "execution_count": 5,
   "id": "moved-synthesis",
   "metadata": {},
   "outputs": [
    {
     "name": "stdout",
     "output_type": "stream",
     "text": [
      "[########################################] | 100% Completed |  4.4s\n"
     ]
    }
   ],
   "source": [
    "# u-winds\n",
    "preproc_ERA5_climatology(u10_dir,ystart,yend)"
   ]
  },
  {
   "cell_type": "code",
   "execution_count": 6,
   "id": "worthy-marsh",
   "metadata": {},
   "outputs": [
    {
     "name": "stdout",
     "output_type": "stream",
     "text": [
      "[########################################] | 100% Completed |  5.3s\n"
     ]
    }
   ],
   "source": [
    "# v-winds\n",
    "preproc_ERA5_climatology(v10_dir,ystart,yend)"
   ]
  },
  {
   "cell_type": "code",
   "execution_count": 7,
   "id": "specified-interim",
   "metadata": {},
   "outputs": [
    {
     "name": "stdout",
     "output_type": "stream",
     "text": [
      "[########################################] | 100% Completed |  5.1s\n"
     ]
    }
   ],
   "source": [
    "# sea level pressure\n",
    "preproc_ERA5_climatology(slp_dir,ystart,yend)"
   ]
  }
 ],
 "metadata": {
  "kernelspec": {
   "display_name": "PhysOcean",
   "language": "python",
   "name": "phys_ocean"
  },
  "language_info": {
   "codemirror_mode": {
    "name": "ipython",
    "version": 3
   },
   "file_extension": ".py",
   "mimetype": "text/x-python",
   "name": "python",
   "nbconvert_exporter": "python",
   "pygments_lexer": "ipython3",
   "version": "3.8.6"
  }
 },
 "nbformat": 4,
 "nbformat_minor": 5
}
