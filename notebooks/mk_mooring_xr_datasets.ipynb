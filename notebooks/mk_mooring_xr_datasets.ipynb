{
 "cells": [
  {
   "cell_type": "markdown",
   "id": "moved-producer",
   "metadata": {},
   "source": [
    "# Make Bering Strait xr datasets\n",
    "\n",
    "Read in text file data and make an annual and monthly xarray dataset that includes all the data for later use."
   ]
  },
  {
   "cell_type": "code",
   "execution_count": 1,
   "id": "suffering-northern",
   "metadata": {},
   "outputs": [],
   "source": [
    "import numpy as np\n",
    "import xarray as xr"
   ]
  },
  {
   "cell_type": "markdown",
   "id": "angry-shannon",
   "metadata": {},
   "source": [
    "## Set path"
   ]
  },
  {
   "cell_type": "code",
   "execution_count": 2,
   "id": "virgin-offense",
   "metadata": {},
   "outputs": [],
   "source": [
    "base = '../data/BeringStraitMooring/'"
   ]
  },
  {
   "cell_type": "markdown",
   "id": "familiar-knife",
   "metadata": {},
   "source": [
    "## Monthly means\n",
    "### Read in data"
   ]
  },
  {
   "cell_type": "code",
   "execution_count": 3,
   "id": "collective-perth",
   "metadata": {},
   "outputs": [],
   "source": [
    "# Volume transport\n",
    "fname_T = base + 'BeringStrait_Monthlymeans_TRANSPORT_Jan2021.txt'\n",
    "# Heat flux\n",
    "fname_H = base + 'BeringStrait_Monthlymeans_HEAT_Jan2021.txt'\n",
    "# Freshwater flux\n",
    "fname_F = base + 'BeringStrait_Monthlymeans_FW_Jan2021.txt'\n",
    "# V velocity\n",
    "fname_v = base + 'BeringStrait_Monthlymeans_VVEL_Jan2021.txt'\n",
    "# Temperature\n",
    "fname_theta = base + 'BeringStrait_Monthlymeans_TEMPERATURE_Jan2021.txt'\n",
    "# Salinity\n",
    "fname_S = base + 'BeringStrait_Monthlymeans_SALINITY_Jan2021.txt'\n",
    "# Pressure head\n",
    "fname_ph = base + 'BeringStrait_Monthlymeans_PH_Jan2021.txt'"
   ]
  },
  {
   "cell_type": "code",
   "execution_count": 4,
   "id": "invisible-worship",
   "metadata": {},
   "outputs": [],
   "source": [
    "# Volume transport\n",
    "BST = np.loadtxt(fname_T, comments='%')\n",
    "# Heat flux\n",
    "BSH = np.loadtxt(fname_H, comments='%')\n",
    "# Freshwater flux\n",
    "BSF = np.loadtxt(fname_F, comments='%')\n",
    "# V velocity\n",
    "BSV = np.loadtxt(fname_v, comments='%')\n",
    "# Temperature\n",
    "BStheta = np.loadtxt(fname_theta, comments='%')\n",
    "# Salinity\n",
    "BSS = np.loadtxt(fname_S, comments='%')\n",
    "# Pressure head\n",
    "BSPH = np.loadtxt(fname_ph, comments='%')"
   ]
  },
  {
   "cell_type": "markdown",
   "id": "hearing-chicken",
   "metadata": {},
   "source": [
    "### Make observational time series"
   ]
  },
  {
   "cell_type": "code",
   "execution_count": 5,
   "id": "fatal-growing",
   "metadata": {},
   "outputs": [],
   "source": [
    "# Make time array\n",
    "time = xr.cftime_range(start=BST[0,1].astype('int').astype('str'), periods=BST.shape[0],\n",
    "                       freq=\"MS\", calendar=\"noleap\").shift(15,'D')"
   ]
  },
  {
   "cell_type": "code",
   "execution_count": 6,
   "id": "trying-politics",
   "metadata": {},
   "outputs": [],
   "source": [
    "# Volume transport [Sv] (uncorrected for ACC)\n",
    "T_vol  = BST[:,-2]\n",
    "T_volE = BST[:,-1]"
   ]
  },
  {
   "cell_type": "code",
   "execution_count": 7,
   "id": "cognitive-intranet",
   "metadata": {},
   "outputs": [],
   "source": [
    "# Pressure head components of transport [Sv]\n",
    "T_vol_ph  = BSPH[:,-2]\n",
    "T_vol_phE = BSPH[:,-1]"
   ]
  },
  {
   "cell_type": "code",
   "execution_count": 8,
   "id": "north-decrease",
   "metadata": {},
   "outputs": [],
   "source": [
    "# Heat flux [TW] (uncorrected for ACC)\n",
    "F_heat  = BSH[:,-2]\n",
    "F_heatE = BSH[:,-1]"
   ]
  },
  {
   "cell_type": "code",
   "execution_count": 9,
   "id": "flush-structure",
   "metadata": {},
   "outputs": [],
   "source": [
    "# Freshwater flux [Sv] (uncorrected for ACC)\n",
    "F_fresh  = BSF[:,-2]\n",
    "F_freshE = BSF[:,-1]"
   ]
  },
  {
   "cell_type": "code",
   "execution_count": 10,
   "id": "noticed-muslim",
   "metadata": {},
   "outputs": [],
   "source": [
    "# V velocity [m/s]\n",
    "vo  = BSV[:,-2]/100\n",
    "voE = BSV[:,-1]/100"
   ]
  },
  {
   "cell_type": "code",
   "execution_count": 11,
   "id": "incredible-registrar",
   "metadata": {},
   "outputs": [],
   "source": [
    "# Temperature [degC]\n",
    "thetao  = BStheta[:,-2]\n",
    "thetaoE = BStheta[:,-1]"
   ]
  },
  {
   "cell_type": "code",
   "execution_count": 12,
   "id": "owned-seminar",
   "metadata": {},
   "outputs": [],
   "source": [
    "# Salinity [PSU]\n",
    "so  = BSS[:,-2]\n",
    "soE = BSS[:,-1]"
   ]
  },
  {
   "cell_type": "code",
   "execution_count": 13,
   "id": "tight-ozone",
   "metadata": {},
   "outputs": [],
   "source": [
    "# make dataset\n",
    "DS = xr.Dataset(\n",
    "    data_vars=dict(\n",
    "        T_vol    = ([\"time\"], T_vol, \n",
    "                    {'units': 'Sv', 'long_name': 'Volume transport (uncorrected for ACC)'}),\n",
    "        T_volE   = ([\"time\"], T_volE, \n",
    "                    {'units': 'Sv', 'long_name': 'Volume transport error'}),\n",
    "        T_vol_ph = ([\"time\"], T_vol_ph, \n",
    "                    {'units': 'Sv', 'long_name': 'Pressure head component of volume transport (uncorrected for ACC)'}),\n",
    "        T_vol_phE= ([\"time\"], T_vol_phE, \n",
    "                    {'units': 'Sv', 'long_name': 'Pressure head component of volume transport error'}),\n",
    "        F_heat   = ([\"time\"], F_heat,\n",
    "                    {'units': 'TW', 'long_name': 'Heat flux (uncorrected for ACC)'}),\n",
    "        F_heatE  = ([\"time\"], F_heatE,\n",
    "                    {'units': 'TW', 'long_name': 'Heat flux error'}),\n",
    "        F_fresh  = ([\"time\"], F_fresh,\n",
    "                    {'units': 'Sv', 'long_name': 'Freshwater flux (uncorrected for ACC)'}),\n",
    "        F_freshE = ([\"time\"], F_freshE,\n",
    "                    {'units': 'Sv', 'long_name': 'Freshwater flux error'}),\n",
    "        vo       = ([\"time\"], vo,\n",
    "                    {'units': 'm/s', 'long_name': 'Meridional velocity'}),\n",
    "        voE      = ([\"time\"], voE,\n",
    "                    {'units': 'm/s', 'long_name': 'Meridional velocity error'}),\n",
    "        thetao   = ([\"time\"], thetao,\n",
    "                    {'units': 'degC', 'long_name': 'Insitu near bottom temperature'}),\n",
    "        thetaoE  = ([\"time\"], thetaoE, \n",
    "                    {'units': 'degC', 'long_name': 'Insitu near bottom temperature error'}),\n",
    "        so       = ([\"time\"], so,\n",
    "                    {'units': 'psu', 'long_name': 'Insitu near bottom salinity'}),\n",
    "        soE      = ([\"time\"], soE,\n",
    "                    {'units': 'psu', 'long_name': 'Insitu near bottom salinity error'}),\n",
    "    ),\n",
    "    coords=dict(\n",
    "        time=time,\n",
    "    ),\n",
    "    attrs=dict(description=\"Bering Strait monthly mean mooring observations.\"),\n",
    ")"
   ]
  },
  {
   "cell_type": "code",
   "execution_count": 14,
   "id": "wrong-function",
   "metadata": {},
   "outputs": [],
   "source": [
    "# save dataset\n",
    "DS.to_netcdf(base + 'BeringStrait_Monthlymeans_Jan2021.nc')"
   ]
  },
  {
   "cell_type": "markdown",
   "id": "another-turtle",
   "metadata": {},
   "source": [
    "## Annual means\n",
    "### Read in data"
   ]
  },
  {
   "cell_type": "code",
   "execution_count": 15,
   "id": "adapted-carrier",
   "metadata": {},
   "outputs": [],
   "source": [
    "# Volume transport\n",
    "fname_T = base + 'BeringStrait_Annualmeans_TRANSPORT_Jan2021.txt'\n",
    "# Heat flux\n",
    "fname_H = base + 'BeringStrait_Annualmeans_HEAT_Jan2021.txt'\n",
    "# Freshwater flux\n",
    "fname_F = base + 'BeringStrait_Annualmeans_FW_Jan2021.txt'\n",
    "# Temperature\n",
    "fname_theta = base + 'BeringStrait_Annualmeans_TEMPERATURE_Jan2021.txt'\n",
    "# Salinity\n",
    "fname_S = base + 'BeringStrait_Annualmeans_SALINITY_Jan2021.txt'"
   ]
  },
  {
   "cell_type": "code",
   "execution_count": 16,
   "id": "found-cameroon",
   "metadata": {},
   "outputs": [],
   "source": [
    "# Volume transport\n",
    "BST = np.loadtxt(fname_T, comments='%')\n",
    "# Heat flux\n",
    "BSH = np.loadtxt(fname_H, comments='%')\n",
    "# Freshwater flux\n",
    "BSF = np.loadtxt(fname_F, comments='%')\n",
    "# Temperature\n",
    "BStheta = np.loadtxt(fname_theta, comments='%')\n",
    "# Salinity\n",
    "BSS = np.loadtxt(fname_S, comments='%')"
   ]
  },
  {
   "cell_type": "markdown",
   "id": "neither-device",
   "metadata": {},
   "source": [
    "### Make observational time series"
   ]
  },
  {
   "cell_type": "code",
   "execution_count": 17,
   "id": "asian-faith",
   "metadata": {},
   "outputs": [],
   "source": [
    "# Make time array\n",
    "time = xr.cftime_range(start=BST[0,0].astype('int').astype('str'), \n",
    "                       periods=BST.shape[0], freq=\"A-JUN\", calendar=\"noleap\")"
   ]
  },
  {
   "cell_type": "code",
   "execution_count": 18,
   "id": "acquired-deadline",
   "metadata": {},
   "outputs": [],
   "source": [
    "# Volume transport [Sv]\n",
    "T_vol  = BST[:,-2] + 0.1\n",
    "T_volE = BST[:,-1]"
   ]
  },
  {
   "cell_type": "code",
   "execution_count": 19,
   "id": "compound-group",
   "metadata": {},
   "outputs": [],
   "source": [
    "# Heat transport [EJ]\n",
    "T_heat  = 100*(BSH[:,-2] + BSH[:,-1])/2\n",
    "T_heatE = 100*BSH[:,5]"
   ]
  },
  {
   "cell_type": "code",
   "execution_count": 20,
   "id": "registered-hometown",
   "metadata": {},
   "outputs": [],
   "source": [
    "# Freshwater transport [km^3]\n",
    "T_fresh  = (BSF[:,-2] + BSF[:,-1])/2\n",
    "T_freshE = BSF[:,5]"
   ]
  },
  {
   "cell_type": "code",
   "execution_count": 21,
   "id": "quality-rating",
   "metadata": {},
   "outputs": [],
   "source": [
    "# Temperature [degC]\n",
    "thetao  = BStheta[:,-2]\n",
    "thetaoE = BStheta[:,-1]"
   ]
  },
  {
   "cell_type": "code",
   "execution_count": 22,
   "id": "dynamic-garlic",
   "metadata": {},
   "outputs": [],
   "source": [
    "# Salinity [PSU]\n",
    "so  = BSS[:,-2]\n",
    "soE = BSS[:,-1]"
   ]
  },
  {
   "cell_type": "code",
   "execution_count": 23,
   "id": "headed-heater",
   "metadata": {},
   "outputs": [],
   "source": [
    "# make dataset\n",
    "DS = xr.Dataset(\n",
    "    data_vars=dict(\n",
    "        T_vol    = ([\"time\"], T_vol, \n",
    "                    {'units': 'Sv', 'long_name': 'Volume transport, mean'}),\n",
    "        T_volE   = ([\"time\"], T_volE, \n",
    "                    {'units': 'Sv', 'long_name': 'Volume transport error'}),\n",
    "        T_heat   = ([\"time\"], T_heat,\n",
    "                    {'units': 'EJ', 'long_name': 'Heat transport, total'}),\n",
    "        T_heatE  = ([\"time\"], T_heatE,\n",
    "                    {'units': 'EJ', 'long_name': 'Heat transport error'}),\n",
    "        T_fresh  = ([\"time\"], T_fresh,\n",
    "                    {'units': 'km^3', 'long_name': 'Freshwater transport, total'}),\n",
    "        T_freshE = ([\"time\"], T_freshE,\n",
    "                    {'units': 'km^3', 'long_name': 'Freshwater transport error'}),\n",
    "        thetao   = ([\"time\"], thetao,\n",
    "                    {'units': 'degC', 'long_name': 'Insitu mean near bottom temperature'}),\n",
    "        thetaoE  = ([\"time\"], thetaoE, \n",
    "                    {'units': 'degC', 'long_name': 'Insitu mean near bottom temperature error'}),\n",
    "        so       = ([\"time\"], so,\n",
    "                    {'units': 'psu', 'long_name': 'Insitu mean near bottom salinity'}),\n",
    "        soE      = ([\"time\"], soE,\n",
    "                    {'units': 'psu', 'long_name': 'Insitu mean near bottom salinity error'}),\n",
    "    ),\n",
    "    coords=dict(\n",
    "        time=time,\n",
    "    ),\n",
    "    attrs=dict(description=\"Bering Strait annnual mooring observations.\"),\n",
    ")"
   ]
  },
  {
   "cell_type": "code",
   "execution_count": 24,
   "id": "broke-generic",
   "metadata": {},
   "outputs": [],
   "source": [
    "# save dataset\n",
    "DS.to_netcdf(base + 'BeringStrait_Annualmeans_Jan2021.nc')"
   ]
  }
 ],
 "metadata": {
  "kernelspec": {
   "display_name": "PhysOcean",
   "language": "python",
   "name": "phys_ocean"
  },
  "language_info": {
   "codemirror_mode": {
    "name": "ipython",
    "version": 3
   },
   "file_extension": ".py",
   "mimetype": "text/x-python",
   "name": "python",
   "nbconvert_exporter": "python",
   "pygments_lexer": "ipython3",
   "version": "3.8.6"
  }
 },
 "nbformat": 4,
 "nbformat_minor": 5
}
