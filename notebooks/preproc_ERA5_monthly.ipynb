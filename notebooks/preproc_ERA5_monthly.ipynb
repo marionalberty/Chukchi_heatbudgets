{
 "cells": [
  {
   "cell_type": "markdown",
   "id": "dying-aircraft",
   "metadata": {},
   "source": [
    "# Preprocess ERA 5 data into monthly means\n",
    "Builds monthly means for each year from available ERA5 data, including 10 m winds and mean sea level pressure"
   ]
  },
  {
   "cell_type": "code",
   "execution_count": 1,
   "id": "damaged-layer",
   "metadata": {},
   "outputs": [],
   "source": [
    "import warnings\n",
    "warnings.filterwarnings('ignore')"
   ]
  },
  {
   "cell_type": "markdown",
   "id": "level-trance",
   "metadata": {},
   "source": [
    "## Set in paths"
   ]
  },
  {
   "cell_type": "code",
   "execution_count": 2,
   "id": "demanding-furniture",
   "metadata": {},
   "outputs": [],
   "source": [
    "# data in\n",
    "# ECMWF ERA5 base\n",
    "base = '/uda/ERA5/Hourly_Data_On_Single_Levels/reanalysis/global/1hr-timestep/annual_file-range/'\n",
    "# u-winds\n",
    "u10_dir = base + 'Wind/u_10m/'\n",
    "# v-winds\n",
    "v10_dir = base + 'Wind/v_10m/'\n",
    "# sea level pressure\n",
    "slp_dir = base + 'Temperature_and_Pressure/P_mean_sea_level/'"
   ]
  },
  {
   "cell_type": "markdown",
   "id": "laughing-depth",
   "metadata": {},
   "source": [
    "## Preprocess algorithm"
   ]
  },
  {
   "cell_type": "code",
   "execution_count": 3,
   "id": "affected-sensitivity",
   "metadata": {},
   "outputs": [],
   "source": [
    "def preproc_ERA5_to_monthly(in_dir):\n",
    "    # import pkgs\n",
    "    from glob import glob\n",
    "    import xarray as xr\n",
    "    from dask.diagnostics import ProgressBar\n",
    "    import numpy as np\n",
    "    \n",
    "    # Parse in_dir to get varaible\n",
    "    var_dir = in_dir.split('/')[-2]\n",
    "    \n",
    "    # monthly means out\n",
    "    out_dir = '/work/Marion.Alberty/data/ERA5_pp/' + var_dir + '/'\n",
    "    \n",
    "    # Get list of ERA5 files\n",
    "    flist = glob(f'{in_dir}*.nc')\n",
    "    \n",
    "    # Read in data\n",
    "    ds = xr.open_mfdataset(flist,use_cftime=True,engine='netcdf4').chunk({'time':24})\n",
    "    \n",
    "    # Time average and write data for each year\n",
    "    with ProgressBar():\n",
    "        for year in np.arange(ds.time.isel(time=0).dt.year.values,ds.time.isel(time=-1).dt.year.values+1):\n",
    "            # Make time coord\n",
    "            time = xr.cftime_range(start=str(year),periods=12,freq='MS')\n",
    "            \n",
    "            # Extract one year and get monthly average\n",
    "            tmp = ds.sel(time=str(year)).groupby('time.month').mean().chunk(\n",
    "                {'latitude':721,'longitude':1440,'month':12}).assign_coords(\n",
    "                {\"time\": (\"month\", time)}).swap_dims({'month': 'time'})\n",
    "            \n",
    "            # Output to netcdf\n",
    "            tmp.to_netcdf(out_dir + 'ERA5_monthly_' + var_dir + '_' + str(year) + '.nc')"
   ]
  },
  {
   "cell_type": "markdown",
   "id": "internal-consciousness",
   "metadata": {},
   "source": [
    "## Set up DASK cluster\n",
    "In dask labextension, create a +NEW cluster. Click the < > widget, scale it to 16 workers and let's go!"
   ]
  },
  {
   "cell_type": "markdown",
   "id": "floppy-israel",
   "metadata": {},
   "source": [
    "## Process and write variables"
   ]
  },
  {
   "cell_type": "code",
   "execution_count": 10,
   "id": "finished-marble",
   "metadata": {},
   "outputs": [
    {
     "name": "stdout",
     "output_type": "stream",
     "text": [
      "[########################################] | 100% Completed |  3min  1.4s\n",
      "[########################################] | 100% Completed |  3min 10.5s\n",
      "[########################################] | 100% Completed |  3min  2.4s\n",
      "[########################################] | 100% Completed |  3min 26.0s\n",
      "[########################################] | 100% Completed |  3min  2.4s\n",
      "[########################################] | 100% Completed |  2min 49.4s\n",
      "[########################################] | 100% Completed |  2min 49.5s\n",
      "[########################################] | 100% Completed |  2min 18.2s\n",
      "[########################################] | 100% Completed |  3min  9.1s\n",
      "[########################################] | 100% Completed |  3min  2.2s\n",
      "[########################################] | 100% Completed |  3min  6.4s\n",
      "[########################################] | 100% Completed |  3min  3.9s\n",
      "[########################################] | 100% Completed |  3min  0.9s\n",
      "[########################################] | 100% Completed |  3min 13.1s\n",
      "[########################################] | 100% Completed |  3min 21.1s\n",
      "[########################################] | 100% Completed |  2min 39.4s\n",
      "[########################################] | 100% Completed |  3min  9.1s\n",
      "[########################################] | 100% Completed |  2min 41.6s\n",
      "[########################################] | 100% Completed |  2min 32.7s\n",
      "[########################################] | 100% Completed |  2min 18.0s\n",
      "[########################################] | 100% Completed |  2min 36.4s\n",
      "[########################################] | 100% Completed |  2min 24.4s\n",
      "[########################################] | 100% Completed |  2min 41.9s\n",
      "[########################################] | 100% Completed |  2min 30.1s\n",
      "[########################################] | 100% Completed |  2min 22.9s\n",
      "[########################################] | 100% Completed |  2min 44.7s\n",
      "[########################################] | 100% Completed |  2min 46.9s\n",
      "[########################################] | 100% Completed |  2min 27.8s\n",
      "[########################################] | 100% Completed |  2min 41.9s\n",
      "[########################################] | 100% Completed |  2min 55.4s\n",
      "[########################################] | 100% Completed |  2min 37.9s\n",
      "[########################################] | 100% Completed |  2min 25.9s\n",
      "[########################################] | 100% Completed |  2min 29.2s\n",
      "[########################################] | 100% Completed |  2min 35.3s\n",
      "[########################################] | 100% Completed |  2min 48.0s\n",
      "[########################################] | 100% Completed |  2min 21.5s\n",
      "[########################################] | 100% Completed |  2min 41.7s\n",
      "[########################################] | 100% Completed |  2min 27.6s\n",
      "[########################################] | 100% Completed |  2min 23.7s\n",
      "[########################################] | 100% Completed |  2min 31.6s\n",
      "[########################################] | 100% Completed |  2min 30.6s\n",
      "[########################################] | 100% Completed |  2min 39.6s\n",
      "[########################################] | 100% Completed |  2min 24.2s\n"
     ]
    }
   ],
   "source": [
    "# u-winds\n",
    "preproc_ERA5_to_monthly(u10_dir)"
   ]
  },
  {
   "cell_type": "code",
   "execution_count": 11,
   "id": "reliable-baseline",
   "metadata": {},
   "outputs": [
    {
     "name": "stdout",
     "output_type": "stream",
     "text": [
      "[########################################] | 100% Completed |  2min 16.3s\n",
      "[########################################] | 100% Completed |  2min 33.0s\n",
      "[########################################] | 100% Completed |  2min 20.2s\n",
      "[########################################] | 100% Completed |  2min 44.1s\n",
      "[########################################] | 100% Completed |  2min 45.3s\n",
      "[########################################] | 100% Completed |  3min  3.5s\n",
      "[########################################] | 100% Completed |  2min 54.7s\n",
      "[########################################] | 100% Completed |  2min 59.1s\n",
      "[########################################] | 100% Completed |  3min  0.9s\n",
      "[########################################] | 100% Completed |  3min 23.6s\n",
      "[########################################] | 100% Completed |  2min 45.0s\n",
      "[########################################] | 100% Completed |  3min 10.7s\n",
      "[########################################] | 100% Completed |  2min 27.4s\n",
      "[########################################] | 100% Completed |  3min  7.0s\n",
      "[########################################] | 100% Completed |  2min 50.7s\n",
      "[########################################] | 100% Completed |  2min 34.5s\n",
      "[########################################] | 100% Completed |  2min 29.1s\n",
      "[########################################] | 100% Completed |  2min 12.8s\n",
      "[########################################] | 100% Completed |  2min 30.8s\n",
      "[########################################] | 100% Completed |  2min 31.4s\n",
      "[########################################] | 100% Completed |  2min 22.9s\n",
      "[########################################] | 100% Completed |  2min 29.1s\n",
      "[########################################] | 100% Completed |  2min 35.1s\n",
      "[########################################] | 100% Completed |  2min 39.7s\n",
      "[########################################] | 100% Completed |  3min 30.7s\n",
      "[########################################] | 100% Completed |  3min 35.8s\n",
      "[########################################] | 100% Completed |  3min 14.9s\n",
      "[########################################] | 100% Completed |  3min  6.3s\n",
      "[########################################] | 100% Completed |  3min  1.5s\n",
      "[########################################] | 100% Completed |  3min  1.8s\n",
      "[########################################] | 100% Completed |  3min  8.0s\n",
      "[########################################] | 100% Completed |  3min 18.5s\n",
      "[########################################] | 100% Completed |  3min 29.1s\n",
      "[########################################] | 100% Completed |  3min 20.5s\n",
      "[########################################] | 100% Completed |  3min 10.0s\n",
      "[########################################] | 100% Completed |  3min  6.7s\n",
      "[########################################] | 100% Completed |  3min  5.6s\n",
      "[########################################] | 100% Completed |  3min 14.9s\n",
      "[########################################] | 100% Completed |  2min 58.1s\n",
      "[########################################] | 100% Completed |  3min  8.9s\n",
      "[########################################] | 100% Completed |  3min  8.5s\n",
      "[########################################] | 100% Completed |  3min 13.1s\n",
      "[########################################] | 100% Completed |  3min 10.3s\n"
     ]
    }
   ],
   "source": [
    "# v-winds\n",
    "preproc_ERA5_to_monthly(v10_dir)"
   ]
  },
  {
   "cell_type": "code",
   "execution_count": 12,
   "id": "special-display",
   "metadata": {},
   "outputs": [
    {
     "name": "stdout",
     "output_type": "stream",
     "text": [
      "[########################################] | 100% Completed |  3min 13.2s\n",
      "[########################################] | 100% Completed |  3min  0.3s\n",
      "[########################################] | 100% Completed |  2min 28.5s\n",
      "[########################################] | 100% Completed |  2min 34.7s\n",
      "[########################################] | 100% Completed |  2min 35.8s\n",
      "[########################################] | 100% Completed |  2min 13.7s\n",
      "[########################################] | 100% Completed |  2min 16.2s\n",
      "[########################################] | 100% Completed |  2min 23.5s\n",
      "[########################################] | 100% Completed |  2min 30.2s\n",
      "[########################################] | 100% Completed |  2min 27.6s\n",
      "[########################################] | 100% Completed |  2min 20.5s\n",
      "[########################################] | 100% Completed |  2min 46.3s\n",
      "[########################################] | 100% Completed |  2min 46.0s\n",
      "[########################################] | 100% Completed |  3min 57.3s\n",
      "[########################################] | 100% Completed |  3min 18.4s\n",
      "[########################################] | 100% Completed |  2min 44.7s\n",
      "[########################################] | 100% Completed |  2min 50.9s\n",
      "[########################################] | 100% Completed |  2min 55.2s\n",
      "[########################################] | 100% Completed |  2min 18.1s\n",
      "[########################################] | 100% Completed |  2min 48.6s\n",
      "[########################################] | 100% Completed |  2min 49.6s\n",
      "[########################################] | 100% Completed |  2min 54.3s\n",
      "[########################################] | 100% Completed |  3min  4.2s\n",
      "[########################################] | 100% Completed |  3min  5.4s\n",
      "[########################################] | 100% Completed |  3min 34.8s\n",
      "[########################################] | 100% Completed |  3min 31.3s\n",
      "[########################################] | 100% Completed |  2min 27.1s\n",
      "[########################################] | 100% Completed |  2min 16.5s\n",
      "[########################################] | 100% Completed |  2min 23.5s\n",
      "[########################################] | 100% Completed |  2min 50.9s\n",
      "[########################################] | 100% Completed |  2min 38.5s\n",
      "[########################################] | 100% Completed |  2min 27.0s\n",
      "[########################################] | 100% Completed |  2min 19.1s\n",
      "[########################################] | 100% Completed |  2min 18.4s\n",
      "[########################################] | 100% Completed |  2min 37.8s\n",
      "[########################################] | 100% Completed |  2min 41.1s\n",
      "[########################################] | 100% Completed |  2min 35.5s\n",
      "[########################################] | 100% Completed |  3min 14.9s\n",
      "[########################################] | 100% Completed |  3min 25.3s\n",
      "[########################################] | 100% Completed |  3min 23.4s\n"
     ]
    }
   ],
   "source": [
    "# sea level pressure\n",
    "preproc_ERA5_to_monthly(slp_dir)"
   ]
  }
 ],
 "metadata": {
  "kernelspec": {
   "display_name": "PhysOcean",
   "language": "python",
   "name": "phys_ocean"
  },
  "language_info": {
   "codemirror_mode": {
    "name": "ipython",
    "version": 3
   },
   "file_extension": ".py",
   "mimetype": "text/x-python",
   "name": "python",
   "nbconvert_exporter": "python",
   "pygments_lexer": "ipython3",
   "version": "3.8.6"
  }
 },
 "nbformat": 4,
 "nbformat_minor": 5
}
